{
 "cells": [
  {
   "cell_type": "code",
   "execution_count": 1,
   "id": "52c412a4-197c-4f19-a271-9365419491f3",
   "metadata": {},
   "outputs": [],
   "source": [
    "import msprime\n",
    "import tskit\n",
    "import numpy as np\n",
    "\n",
    "import os\n",
    "import subprocess\n",
    "\n",
    "import pandas as pd\n",
    "\n",
    "import math \n",
    "import statistics\n",
    "\n",
    "import seaborn as sns\n",
    "from IPython.display import SVG, set_matplotlib_formats\n",
    "from matplotlib import pyplot as plt\n",
    "\n",
    "from collections import Counter"
   ]
  },
  {
   "cell_type": "markdown",
   "id": "01597f69-c167-4ab6-b438-c020e2f884a4",
   "metadata": {},
   "source": [
    "### Testing the expected branch length under the IM model"
   ]
  },
  {
   "cell_type": "markdown",
   "id": "09ee1a59-005a-4919-b464-559d8449feac",
   "metadata": {},
   "source": [
    "##### Set up a branch type dictionary for the unphased unrooted IM model\n",
    "##### Keys are lists of lineages which share a derived mutation, values are mutation types (see Laetsch et al. 2023)"
   ]
  },
  {
   "cell_type": "code",
   "execution_count": 2,
   "id": "cc1d8009-20e0-44e8-974b-3dd4c5f089da",
   "metadata": {},
   "outputs": [
    {
     "data": {
      "text/plain": [
       "{(0, 1, 2, 3): None,\n",
       " (0,): 'hetA',\n",
       " (1,): 'hetA',\n",
       " (0, 2, 3): 'hetA',\n",
       " (1, 2, 3): 'hetA',\n",
       " (2,): 'hetB',\n",
       " (3,): 'hetB',\n",
       " (0, 1, 2): 'hetB',\n",
       " (0, 1, 3): 'hetB',\n",
       " (0, 2): 'hetAB',\n",
       " (0, 3): 'hetAB',\n",
       " (1, 2): 'hetAB',\n",
       " (1, 3): 'hetAB',\n",
       " (0, 1): 'FD',\n",
       " (2, 3): 'FD'}"
      ]
     },
     "execution_count": 2,
     "metadata": {},
     "output_type": "execute_result"
    }
   ],
   "source": [
    "HetATypes = [\n",
    "    [0],\n",
    "    [1],\n",
    "    [0,2,3],\n",
    "    [1,2,3]\n",
    "]\n",
    "HetBTypes = [\n",
    "    [2],\n",
    "    [3],\n",
    "    [0,1,2],\n",
    "    [0,1,3]\n",
    "]\n",
    "FixedDiffs = [\n",
    "    [0,1],\n",
    "    [2,3]\n",
    "]\n",
    "HetABTypes = [\n",
    "    [0,2],\n",
    "    [0,3],\n",
    "    [1,2],\n",
    "    [1,3]\n",
    "]\n",
    "\n",
    "mutTypeDict = {(0,1,2,3):None};\n",
    "for ls in HetATypes:\n",
    "    mutTypeDict[tuple(sorted(ls))] = \"hetA\"\n",
    "for ls in HetBTypes:\n",
    "    mutTypeDict[tuple(sorted(ls))] = \"hetB\"\n",
    "for ls in HetABTypes:\n",
    "    mutTypeDict[tuple(sorted(ls))] = \"hetAB\"\n",
    "for ls in FixedDiffs:\n",
    "    mutTypeDict[tuple(sorted(ls))] = \"FD\"\n",
    "\n",
    "mutTypeDict\n"
   ]
  },
  {
   "cell_type": "code",
   "execution_count": 3,
   "id": "66c03e82-c222-4b89-a9b6-a43de312d757",
   "metadata": {},
   "outputs": [],
   "source": [
    "def record_branch_lengths(mts_list):\n",
    "\n",
    "    a_0_lengths = []\n",
    "    b_0_lengths = []\n",
    "\n",
    "    a_1_lengths = []\n",
    "    b_1_lengths = []\n",
    "\n",
    "    a_2_lengths = []\n",
    "    b_2_lengths = []\n",
    "    \n",
    "    for mts in mts_list:\n",
    "\n",
    "        tree = mts.at(block_length / 2) # assuming no recombination in a block, it doesn't matter where we sample from\n",
    "     \n",
    "        tempList = []\n",
    "        for node in tree.nodes():\n",
    "            leaves = tuple(sorted(list(tree.leaves(node))))\n",
    "            mutType = mutTypeDict[leaves]\n",
    "            length = tree.get_branch_length(node)\n",
    "            tempList.append([mutType,length])\n",
    "    \n",
    "        # calculate the total length of hetA and hetB type branches in this tree\n",
    "        a_length = sum([y for x,y in tempList if x=='hetA'])\n",
    "        b_length = sum([y for x,y in tempList if x=='hetB'])\n",
    "    \n",
    "        # record the hetA and hetB branch lengths for all non-recombining blocks\n",
    "        a_0_lengths.append(a_length)\n",
    "        b_0_lengths.append(b_length)\n",
    "    \n",
    "    \n",
    "        # if the topology is incongruent, \n",
    "        if 'hetAB' in [a for (a,b) in tempList]:\n",
    "            \n",
    "            #store the hetA and hetB branch lengths for this tree conditioned on incongruence\n",
    "            a_1_lengths.append(a_length)\n",
    "            b_1_lengths.append(b_length)\n",
    "    \n",
    "            # given incongruence, check if there is a hetAB mutation present within the block\n",
    "            has_ab_mut = False\n",
    "            muts = tree.mutations()\n",
    "            for mut in muts:\n",
    "                # get the node below the mutation and check the branch type (mutType) of the mutation\n",
    "                node1 = mut.node\n",
    "                leaves = tuple(sorted(list(tree.leaves(node1))))\n",
    "                mutType = mutTypeDict[leaves]\n",
    "                # if the mutation is hetAB\n",
    "                if mutType == 'hetAB':\n",
    "                    has_ab_mut = True\n",
    "                    break\n",
    "                            \n",
    "            # conditioned on a hetAB mutation in the block, record the hetA and hetB branch lengths \n",
    "            if has_ab_mut:\n",
    "                a_2_lengths.append(a_length)\n",
    "                b_2_lengths.append(b_length)\n",
    "\n",
    "    return a_0_lengths, b_0_lengths, a_1_lengths, b_1_lengths, a_2_lengths, b_2_lengths"
   ]
  },
  {
   "cell_type": "code",
   "execution_count": 4,
   "id": "b3c35226-eefb-486a-9db4-d18efaad5ce0",
   "metadata": {},
   "outputs": [],
   "source": [
    "def calculate_asymmetry(a_list, b_list):\n",
    "    \n",
    "    a_total = sum(a_list)\n",
    "    b_total = sum(b_list)\n",
    "\n",
    "    asymm = (a_total - b_total) / (a_total + b_total)\n",
    "\n",
    "    return asymm"
   ]
  },
  {
   "cell_type": "code",
   "execution_count": 5,
   "id": "d5a6f5c1-2c78-43a5-b2d9-3d93c1de1c6b",
   "metadata": {},
   "outputs": [],
   "source": [
    "def block_jackknife(a_list, b_list, jk_block):\n",
    "    #print(\"trimming {} sims...\".format(len(a_list) % jk_block))\n",
    "    total_jk_blocks = int((len(a_list) - (len(a_list) % jk_block)) / jk_block)\n",
    "    if total_jk_blocks < 2:\n",
    "        #print(\"not enough blocks for jackknife\")\n",
    "        overall_estimate = calculate_asymmetry(a_list, b_list)\n",
    "        return [-1, overall_estimate, 1]\n",
    "    #print(\"total of {} jk blocks\".format(total_jk_blocks))\n",
    "    trimmed_a_list = a_list[:total_jk_blocks * jk_block]\n",
    "    trimmed_b_list = b_list[:total_jk_blocks * jk_block]\n",
    "    blocked_a_list = np.mean(trimmed_a_list.reshape(-1, jk_block), axis=1)\n",
    "    blocked_b_list = np.mean(trimmed_b_list.reshape(-1, jk_block), axis=1)\n",
    "    overall_estimate = calculate_asymmetry(blocked_a_list, blocked_b_list)\n",
    "    n = total_jk_blocks\n",
    "    pseudo_estimates = []\n",
    "    for i in range(0, n):\n",
    "        retained_a_blocks = np.delete(blocked_a_list, i)\n",
    "        retained_b_blocks = np.delete(blocked_b_list, i)\n",
    "        retained_blocks_estimate = calculate_asymmetry(retained_a_blocks, retained_b_blocks)\n",
    "        pseudo_estimate = (n * overall_estimate) - ((n - 1) * retained_blocks_estimate)\n",
    "        pseudo_estimates.append(pseudo_estimate)\n",
    "    pseudovalue_variance = sum([(e - overall_estimate)**2 for e in pseudo_estimates]) / (n - 1)\n",
    "    lower_CI = overall_estimate - (1.96 * math.sqrt(pseudovalue_variance / n))\n",
    "    higher_CI = overall_estimate + (1.96 * math.sqrt(pseudovalue_variance / n))\n",
    "    return [lower_CI, overall_estimate, higher_CI]"
   ]
  },
  {
   "cell_type": "markdown",
   "id": "45e2dc83-4993-45a0-9115-0b7f9b331ee4",
   "metadata": {},
   "source": [
    "##### Here we simulate sequences with recombination and calculate A_m across varying block sizes. The demography is for Odocoileus virginianus (WTD) and Odocoileus hemionus (MD), inferred by Kessler and Shafer (2024). This demography is for three populations (presented in Figure 4a of Kessler and Shafer 2024), and we sample lineages from two of the populations (WTD_ML and MD)."
   ]
  },
  {
   "cell_type": "code",
   "execution_count": 6,
   "id": "f493b460-358e-4eb0-a4ae-518147162630",
   "metadata": {},
   "outputs": [
    {
     "name": "stdout",
     "output_type": "stream",
     "text": [
      "jack-knifing...\n"
     ]
    },
    {
     "data": {
      "image/png": "[encoded data removed]",
      "text/plain": [
       "<Figure size 300x300 with 1 Axes>"
      ]
     },
     "metadata": {},
     "output_type": "display_data"
    },
    {
     "name": "stdout",
     "output_type": "stream",
     "text": [
      "CPU times: total: 26 s\n",
      "Wall time: 30.5 s\n"
     ]
    }
   ],
   "source": [
    "%%time\n",
    "\n",
    "import seaborn as sns\n",
    "import matplotlib.pyplot as plt\n",
    "from matplotlib.ticker import ScalarFormatter\n",
    "\n",
    "mu = 1.23e-8\n",
    "r = 1.04e-8\n",
    "\n",
    "L = 65_536\n",
    "a_results_dict = {}\n",
    "b_results_dict = {}\n",
    "for dist in [1, 2, 4, 8, 16, 32, 64, 128, 256, 512, 1024, 2048, 4096, 8192, 16_384, 32_768, 65_536]:\n",
    "    a_results_dict[dist] = np.array([], dtype=np.float64)\n",
    "    b_results_dict[dist] = np.array([], dtype=np.float64)\n",
    "\n",
    "\n",
    "def a_b_from_tree(tree):\n",
    "    tempList = []\n",
    "    for node in tree.nodes():\n",
    "        leaves = tuple(sorted(list(tree.leaves(node))))\n",
    "        mutType = mutTypeDict[leaves]\n",
    "        length = tree.get_branch_length(node)\n",
    "        tempList.append([mutType,length])\n",
    "\n",
    "    # calculate the total length of hetA and hetB type branches in this tree\n",
    "    a_length = sum([y for x,y in tempList if x=='hetA'])\n",
    "    b_length = sum([y for x,y in tempList if x=='hetB'])\n",
    "\n",
    "    return a_length, b_length\n",
    "\n",
    "\n",
    "for i in range(1, 101): # this would normally be 1001\n",
    "\n",
    "    demography = msprime.Demography()\n",
    "    demography.add_population(name=\"MD\", initial_size=55_432)\n",
    "    demography.add_population(name=\"WTD_ML\", initial_size=171_380)\n",
    "    demography.add_population(name=\"WTD_KEY\", initial_size=19_344)\n",
    "    demography.add_population(name=\"WTD_ANC\", initial_size = 397_956)\n",
    "    demography.add_population(name=\"ANC_REF\", initial_size = 99_000) # this was an approximation based on info in the table, and I assumed it was for ultiamte ancestor\n",
    "    \n",
    "    demography.set_symmetric_migration_rate(populations=[\"MD\",\"WTD_ML\"],rate = 4.4e-6) \n",
    "    demography.set_symmetric_migration_rate(populations=[\"WTD_KEY\",\"WTD_ML\"], rate = 1.1e-5)  \n",
    "    # I divided the values they reported by two, assuming that they reported years and NOT generations:\n",
    "\n",
    "\n",
    "    demography.add_symmetric_migration_rate_change(time=6_725/2, populations=[\"MD\",\"WTD_ML\"], rate = 0.0) \n",
    "    demography.add_symmetric_migration_rate_change(time=6_725/2, populations=[\"WTD_KEY\",\"WTD_ML\"], rate = 0.0)\n",
    "    demography.add_population_split(time = (54_196/2), derived = [\"WTD_ML\",\"WTD_KEY\"],ancestral = \"WTD_ANC\")\n",
    "    demography.add_population_split(time = (280_277/2), derived = [\"MD\",\"WTD_ANC\"], ancestral = \"ANC_REF\")\n",
    "\n",
    "    ts = msprime.sim_ancestry(\n",
    "        samples={\"WTD_ML\": 1, \"MD\": 1}, \n",
    "        demography=demography,\n",
    "        ploidy=2,\n",
    "        recombination_rate=r,\n",
    "        sequence_length=L,\n",
    "        discrete_genome=True, # means genelogies have defined coords\n",
    "        random_seed = 44+i,\n",
    "        record_migrations=True\n",
    "    )\n",
    "\n",
    "    mt_ts = msprime.sim_mutations(ts, rate=mu, discrete_genome=False, random_seed = 44+i)\n",
    "\n",
    "    seq_a_length = []\n",
    "    seq_b_length = []\n",
    "    hetAB = [0] * L\n",
    "    \n",
    "    for tree in mt_ts.trees():\n",
    "        \n",
    "        start = tree.interval.left\n",
    "        end = tree.interval.right\n",
    "        span = int(end - start)\n",
    "        a_length, b_length = a_b_from_tree(tree)\n",
    "        seq_a_length = seq_a_length + ([a_length] * span)\n",
    "        seq_b_length = seq_b_length + ([b_length] * span)\n",
    "        for site in tree.sites():\n",
    "            mut_pos = int(site.position) # effectively assumes infinite sites\n",
    "            leaves = tuple(sorted(list(tree.leaves(site.mutations[0].node))))\n",
    "            mutType = mutTypeDict[leaves]\n",
    "            if mutType == \"hetAB\":\n",
    "                hetAB[mut_pos] = 1\n",
    "\n",
    "    \n",
    "    for dist in a_results_dict.keys():\n",
    "        for interval_start in range(0, L, dist):\n",
    "            interval_hetAB = hetAB[interval_start:interval_start+dist]\n",
    "            if sum(interval_hetAB) > 0:\n",
    "                interval_res_a = seq_a_length[interval_start:interval_start+dist]\n",
    "                interval_res_b = seq_b_length[interval_start:interval_start+dist]\n",
    "                interval_a = sum(interval_res_a) / len(interval_res_a)\n",
    "                interval_b = sum(interval_res_b) / len(interval_res_b)\n",
    "                a_results_dict[dist] = np.append(a_results_dict[dist], np.array([interval_a]))\n",
    "                b_results_dict[dist] = np.append(b_results_dict[dist], np.array([interval_b]))\n",
    "\n",
    "\n",
    "    if i % 100 == 0 and i > 0:\n",
    "\n",
    "\n",
    "        dist_list = []\n",
    "        asymm_list_l = []\n",
    "        asymm_list_p = []\n",
    "        asymm_list_u = []\n",
    "        topology_list = []\n",
    "        \n",
    "        print(\"jack-knifing...\")\n",
    "        \n",
    "        for dist in a_results_dict.keys():\n",
    "            if len(a_results_dict[dist]) > 0:\n",
    "                jk_block = int(round((len(a_results_dict[dist]) / 25), 0)) \n",
    "                #print(jk_block)\n",
    "                dist_list.append(dist)\n",
    "                lower, point, upper = block_jackknife(a_results_dict[dist], b_results_dict[dist], jk_block)\n",
    "                asymm_list_l.append(lower)\n",
    "                asymm_list_p.append(point)\n",
    "                asymm_list_u.append(upper)\n",
    "                \n",
    "        fig, ax = plt.subplots()\n",
    "        fig.set_size_inches(3, 3)\n",
    "        ax.scatter(x = dist_list, y = asymm_list_p, s=7, color=\"k\")\n",
    "        ax.errorbar(x = dist_list, y = asymm_list_p, yerr = np.subtract(asymm_list_p, asymm_list_l), color=\"k\", ls='none')\n",
    "        ax.xaxis.set_major_formatter(ScalarFormatter())\n",
    "        ax.set_xscale('log', base=2)\n",
    "        ax.set_xlim(0.5, 2*L)\n",
    "        #ax.set_ylim(0, 0.025)\n",
    "        ax.set_xscale('log', base=2)\n",
    "        plt.show()\n"
   ]
  },
  {
   "cell_type": "code",
   "execution_count": 7,
   "id": "2192a2a4-1ef1-45a6-acfe-0eaf38b09d08",
   "metadata": {},
   "outputs": [
    {
     "name": "stdout",
     "output_type": "stream",
     "text": [
      "[1, 2, 4, 8, 16, 32, 64, 128, 256, 512, 1024, 2048, 4096, 8192, 16384, 32768, 65536]\n",
      "\n",
      "[-0.0060318749981214635, -0.007812742105182431, -0.003561988867412446, -0.0038257217825323035, -0.002077250488092316, 0.0013110680034461066, 0.001742306864985884, 0.0054334208467549765, 0.006893691209508158, 0.03565065720396523, 0.07530574333163073, 0.13197189033057338, 0.196417921434047, 0.2664444175708427, 0.317203428032851, 0.33960518163413966, 0.34132368347002773]\n",
      "\n",
      "[0.01703913665852097, 0.015389431636658605, 0.019410525656074432, 0.0189445188026648, 0.020799853444913922, 0.024424218382662517, 0.025578758710528973, 0.029400398932748553, 0.03453060146544586, 0.06720270754627866, 0.10943664124656059, 0.16301672243747342, 0.22377534442873545, 0.29227197623948015, 0.33892692251961265, 0.3659471354553237, 0.36886268351456664]\n",
      "\n",
      "[0.04011014831516341, 0.03859160537849964, 0.04238304017956131, 0.0417147593878619, 0.043676957377920156, 0.04753736876187893, 0.049415210556072064, 0.053367377018742126, 0.06216751172138357, 0.09875475788859209, 0.14356753916149045, 0.19406155454437346, 0.25113276742342394, 0.3180995349081176, 0.3606504170063743, 0.39228908927650774, 0.39640168355910554]\n",
      "\n"
     ]
    }
   ],
   "source": [
    "# print results\n",
    "print(dist_list)\n",
    "print()\n",
    "print(asymm_list_l)\n",
    "print()\n",
    "print(asymm_list_p)\n",
    "print()\n",
    "print(asymm_list_u)\n",
    "print()\n"
   ]
  },
  {
   "cell_type": "code",
   "execution_count": 8,
   "id": "d4329043-dece-4412-8bf0-c730f1a40b79",
   "metadata": {},
   "outputs": [
    {
     "name": "stdout",
     "output_type": "stream",
     "text": [
      "{0, 0.01703913665852097}, {1, 0.015389431636658605}, {2, 0.019410525656074432}, {3, 0.0189445188026648}, {4, 0.020799853444913922}, {5, 0.024424218382662517}, {6, 0.025578758710528973}, {7, 0.029400398932748553}, {8, 0.03453060146544586}, {9, 0.06720270754627866}, {10, 0.10943664124656059}, {11, 0.16301672243747342}, {12, 0.22377534442873545}, {13, 0.29227197623948015}, {14, 0.33892692251961265}, {15, 0.3659471354553237}, {16, 0.36886268351456664}, "
     ]
    }
   ],
   "source": [
    "# print results for plotting in Mathematica\n",
    "for i, dist in enumerate(dist_list):\n",
    "    print(\"{}{}, {}{}, \".format(\"{\", i, asymm_list_p[i], \"}\"), end=\"\")"
   ]
  },
  {
   "cell_type": "code",
   "execution_count": 9,
   "id": "64dd7b1d-48fe-410b-8a2f-3f6402f558cd",
   "metadata": {},
   "outputs": [
    {
     "name": "stdout",
     "output_type": "stream",
     "text": [
      "Line[{{0, -0.0060318749981214635}, {0, 0.04011014831516341}}], Line[{{1, -0.007812742105182431}, {1, 0.03859160537849964}}], Line[{{2, -0.003561988867412446}, {2, 0.04238304017956131}}], Line[{{3, -0.0038257217825323035}, {3, 0.0417147593878619}}], Line[{{4, -0.002077250488092316}, {4, 0.043676957377920156}}], Line[{{5, 0.0013110680034461066}, {5, 0.04753736876187893}}], Line[{{6, 0.001742306864985884}, {6, 0.049415210556072064}}], Line[{{7, 0.0054334208467549765}, {7, 0.053367377018742126}}], Line[{{8, 0.006893691209508158}, {8, 0.06216751172138357}}], Line[{{9, 0.03565065720396523}, {9, 0.09875475788859209}}], Line[{{10, 0.07530574333163073}, {10, 0.14356753916149045}}], Line[{{11, 0.13197189033057338}, {11, 0.19406155454437346}}], Line[{{12, 0.196417921434047}, {12, 0.25113276742342394}}], Line[{{13, 0.2664444175708427}, {13, 0.3180995349081176}}], Line[{{14, 0.317203428032851}, {14, 0.3606504170063743}}], Line[{{15, 0.33960518163413966}, {15, 0.39228908927650774}}], Line[{{16, 0.34132368347002773}, {16, 0.39640168355910554}}], "
     ]
    }
   ],
   "source": [
    "# print results for plotting in Mathematica\n",
    "for i, l, u in zip([k for k in range(0, 17)], asymm_list_l, asymm_list_u):\n",
    "   print(\"Line{}{}, {}{}{}, {}{}\".format(\"[{{\", i, l, \"}, {\", i, u, \"}}], \"), end=\"\")"
   ]
  },
  {
   "cell_type": "code",
   "execution_count": null,
   "id": "3342fba1-27af-4773-a036-f1c53caff5b2",
   "metadata": {},
   "outputs": [],
   "source": []
  }
 ],
 "metadata": {
  "kernelspec": {
   "display_name": "Python 3 (ipykernel)",
   "language": "python",
   "name": "python3"
  },
  "language_info": {
   "codemirror_mode": {
    "name": "ipython",
    "version": 3
   },
   "file_extension": ".py",
   "mimetype": "text/x-python",
   "name": "python",
   "nbconvert_exporter": "python",
   "pygments_lexer": "ipython3",
   "version": "3.12.1"
  }
 },
 "nbformat": 4,
 "nbformat_minor": 5
}
