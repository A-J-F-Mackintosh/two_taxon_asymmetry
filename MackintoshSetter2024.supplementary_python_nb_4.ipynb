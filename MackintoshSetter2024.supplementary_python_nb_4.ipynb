{
 "cells": [
  {
   "cell_type": "code",
   "execution_count": 1,
   "id": "52c412a4-197c-4f19-a271-9365419491f3",
   "metadata": {},
   "outputs": [],
   "source": [
    "import msprime\n",
    "import tskit\n",
    "import numpy as np\n",
    "\n",
    "import os\n",
    "import subprocess\n",
    "\n",
    "import pandas as pd\n",
    "\n",
    "import math \n",
    "import statistics\n",
    "\n",
    "import seaborn as sns\n",
    "from IPython.display import SVG, set_matplotlib_formats\n",
    "from matplotlib import pyplot as plt\n",
    "\n",
    "from collections import Counter"
   ]
  },
  {
   "cell_type": "markdown",
   "id": "01597f69-c167-4ab6-b438-c020e2f884a4",
   "metadata": {},
   "source": [
    "### Testing the expected branch length under the IM model"
   ]
  },
  {
   "cell_type": "markdown",
   "id": "09ee1a59-005a-4919-b464-559d8449feac",
   "metadata": {},
   "source": [
    "##### Set up a branch type dictionary for the unphased unrooted IM model\n",
    "##### Keys are lists of lineages which share a derived mutation, values are mutation types (see Laetsch et al. 2023)"
   ]
  },
  {
   "cell_type": "code",
   "execution_count": 2,
   "id": "cc1d8009-20e0-44e8-974b-3dd4c5f089da",
   "metadata": {},
   "outputs": [
    {
     "data": {
      "text/plain": [
       "{(0, 1, 2, 3): None,\n",
       " (0,): 'hetA',\n",
       " (1,): 'hetA',\n",
       " (0, 2, 3): 'hetA',\n",
       " (1, 2, 3): 'hetA',\n",
       " (2,): 'hetB',\n",
       " (3,): 'hetB',\n",
       " (0, 1, 2): 'hetB',\n",
       " (0, 1, 3): 'hetB',\n",
       " (0, 2): 'hetAB',\n",
       " (0, 3): 'hetAB',\n",
       " (1, 2): 'hetAB',\n",
       " (1, 3): 'hetAB',\n",
       " (0, 1): 'FD',\n",
       " (2, 3): 'FD'}"
      ]
     },
     "execution_count": 2,
     "metadata": {},
     "output_type": "execute_result"
    }
   ],
   "source": [
    "HetATypes = [\n",
    "    [0],\n",
    "    [1],\n",
    "    [0,2,3],\n",
    "    [1,2,3]\n",
    "]\n",
    "HetBTypes = [\n",
    "    [2],\n",
    "    [3],\n",
    "    [0,1,2],\n",
    "    [0,1,3]\n",
    "]\n",
    "FixedDiffs = [\n",
    "    [0,1],\n",
    "    [2,3]\n",
    "]\n",
    "HetABTypes = [\n",
    "    [0,2],\n",
    "    [0,3],\n",
    "    [1,2],\n",
    "    [1,3]\n",
    "]\n",
    "\n",
    "mutTypeDict = {(0,1,2,3):None};\n",
    "for ls in HetATypes:\n",
    "    mutTypeDict[tuple(sorted(ls))] = \"hetA\"\n",
    "for ls in HetBTypes:\n",
    "    mutTypeDict[tuple(sorted(ls))] = \"hetB\"\n",
    "for ls in HetABTypes:\n",
    "    mutTypeDict[tuple(sorted(ls))] = \"hetAB\"\n",
    "for ls in FixedDiffs:\n",
    "    mutTypeDict[tuple(sorted(ls))] = \"FD\"\n",
    "\n",
    "mutTypeDict\n"
   ]
  },
  {
   "cell_type": "code",
   "execution_count": 3,
   "id": "66c03e82-c222-4b89-a9b6-a43de312d757",
   "metadata": {},
   "outputs": [],
   "source": [
    "def record_branch_lengths(mts_list):\n",
    "\n",
    "    a_0_lengths = []\n",
    "    b_0_lengths = []\n",
    "\n",
    "    a_1_lengths = []\n",
    "    b_1_lengths = []\n",
    "\n",
    "    a_2_lengths = []\n",
    "    b_2_lengths = []\n",
    "    \n",
    "    for mts in mts_list:\n",
    "\n",
    "        tree = mts.at(block_length / 2) # assuming no recombination in a block, it doesn't matter where we sample from\n",
    "     \n",
    "        tempList = []\n",
    "        for node in tree.nodes():\n",
    "            leaves = tuple(sorted(list(tree.leaves(node))))\n",
    "            mutType = mutTypeDict[leaves]\n",
    "            length = tree.get_branch_length(node)\n",
    "            tempList.append([mutType,length])\n",
    "    \n",
    "        # calculate the total length of hetA and hetB type branches in this tree\n",
    "        a_length = sum([y for x,y in tempList if x=='hetA'])\n",
    "        b_length = sum([y for x,y in tempList if x=='hetB'])\n",
    "    \n",
    "        # record the hetA and hetB branch lengths for all non-recombining blocks\n",
    "        a_0_lengths.append(a_length)\n",
    "        b_0_lengths.append(b_length)\n",
    "    \n",
    "    \n",
    "        # if the topology is incongruent, \n",
    "        if 'hetAB' in [a for (a,b) in tempList]:\n",
    "            \n",
    "            #store the hetA and hetB branch lengths for this tree conditioned on incongruence\n",
    "            a_1_lengths.append(a_length)\n",
    "            b_1_lengths.append(b_length)\n",
    "    \n",
    "            # given incongruence, check if there is a hetAB mutation present within the block\n",
    "            has_ab_mut = False\n",
    "            muts = tree.mutations()\n",
    "            for mut in muts:\n",
    "                # get the node below the mutation and check the branch type (mutType) of the mutation\n",
    "                node1 = mut.node\n",
    "                leaves = tuple(sorted(list(tree.leaves(node1))))\n",
    "                mutType = mutTypeDict[leaves]\n",
    "                # if the mutation is hetAB\n",
    "                if mutType == 'hetAB':\n",
    "                    has_ab_mut = True\n",
    "                    break\n",
    "                            \n",
    "            # conditioned on a hetAB mutation in the block, record the hetA and hetB branch lengths \n",
    "            if has_ab_mut:\n",
    "                a_2_lengths.append(a_length)\n",
    "                b_2_lengths.append(b_length)\n",
    "\n",
    "    return a_0_lengths, b_0_lengths, a_1_lengths, b_1_lengths, a_2_lengths, b_2_lengths"
   ]
  },
  {
   "cell_type": "code",
   "execution_count": 4,
   "id": "b3c35226-eefb-486a-9db4-d18efaad5ce0",
   "metadata": {},
   "outputs": [],
   "source": [
    "def calculate_asymmetry(a_list, b_list):\n",
    "    \n",
    "    a_total = sum(a_list)\n",
    "    b_total = sum(b_list)\n",
    "\n",
    "    asymm = (a_total - b_total) / (a_total + b_total)\n",
    "\n",
    "    return asymm"
   ]
  },
  {
   "cell_type": "code",
   "execution_count": 5,
   "id": "d5a6f5c1-2c78-43a5-b2d9-3d93c1de1c6b",
   "metadata": {},
   "outputs": [],
   "source": [
    "def block_jackknife(a_list, b_list, jk_block):\n",
    "    #print(\"trimming {} sims...\".format(len(a_list) % jk_block))\n",
    "    total_jk_blocks = int((len(a_list) - (len(a_list) % jk_block)) / jk_block)\n",
    "    if total_jk_blocks < 2:\n",
    "        #print(\"not enough blocks for jackknife\")\n",
    "        overall_estimate = calculate_asymmetry(a_list, b_list)\n",
    "        return [-1, overall_estimate, 1]\n",
    "    #print(\"total of {} jk blocks\".format(total_jk_blocks))\n",
    "    trimmed_a_list = a_list[:total_jk_blocks * jk_block]\n",
    "    trimmed_b_list = b_list[:total_jk_blocks * jk_block]\n",
    "    blocked_a_list = np.mean(trimmed_a_list.reshape(-1, jk_block), axis=1)\n",
    "    blocked_b_list = np.mean(trimmed_b_list.reshape(-1, jk_block), axis=1)\n",
    "    overall_estimate = calculate_asymmetry(blocked_a_list, blocked_b_list)\n",
    "    n = total_jk_blocks\n",
    "    pseudo_estimates = []\n",
    "    for i in range(0, n):\n",
    "        retained_a_blocks = np.delete(blocked_a_list, i)\n",
    "        retained_b_blocks = np.delete(blocked_b_list, i)\n",
    "        retained_blocks_estimate = calculate_asymmetry(retained_a_blocks, retained_b_blocks)\n",
    "        pseudo_estimate = (n * overall_estimate) - ((n - 1) * retained_blocks_estimate)\n",
    "        pseudo_estimates.append(pseudo_estimate)\n",
    "    pseudovalue_variance = sum([(e - overall_estimate)**2 for e in pseudo_estimates]) / (n - 1)\n",
    "    lower_CI = overall_estimate - (1.96 * math.sqrt(pseudovalue_variance / n))\n",
    "    higher_CI = overall_estimate + (1.96 * math.sqrt(pseudovalue_variance / n))\n",
    "    return [lower_CI, overall_estimate, higher_CI]"
   ]
  },
  {
   "cell_type": "markdown",
   "id": "3ea90271-d1fb-4ecb-ad1f-baef9fee003b",
   "metadata": {},
   "source": [
    "##### Here we simulate sequences with recombination and calculate A_m across varying block sizes. The demography is for Odocoileus virginianus (WTD) and Odocoileus hemionus (MD), inferred by Kessler and Shafer (2024). This demography is for three populations (presented in Figure 4b of Kessler and Shafer 2024), and we sample lineages from two of the populations (WTD_ML and MD_BTD)."
   ]
  },
  {
   "cell_type": "code",
   "execution_count": 8,
   "id": "f493b460-358e-4eb0-a4ae-518147162630",
   "metadata": {
    "scrolled": true
   },
   "outputs": [
    {
     "name": "stdout",
     "output_type": "stream",
     "text": [
      "100\n",
      "jack-knifing...\n"
     ]
    },
    {
     "data": {
      "image/png": "[encoded data removed]",
      "text/plain": [
       "<Figure size 300x300 with 1 Axes>"
      ]
     },
     "metadata": {},
     "output_type": "display_data"
    },
    {
     "name": "stdout",
     "output_type": "stream",
     "text": [
      "CPU times: total: 24.5 s\n",
      "Wall time: 34.7 s\n"
     ]
    }
   ],
   "source": [
    "%%time\n",
    "\n",
    "import seaborn as sns\n",
    "import matplotlib.pyplot as plt\n",
    "from matplotlib.ticker import ScalarFormatter\n",
    "\n",
    "Nanc_ref = 97_203 #obtained as average of \"converted parameters\"/\"parameters\" from nu1, nu2, nu3, nuA in table S5\n",
    "Nwtd_ml = 204_098\n",
    "Nmd_md = 28_411\n",
    "Nmd_btd = 25_940\n",
    "Nmd_anc = 81_573\n",
    "\n",
    "mu = 1.23e-8\n",
    "r = 1.04e-8\n",
    "\n",
    "L = 65_536\n",
    "a_results_dict = {}\n",
    "b_results_dict = {}\n",
    "for dist in [1, 2, 4, 8, 16, 32, 64, 128, 256, 512, 1024, 2048, 4096, 8192, 16_384, 32_768, 65_536]:\n",
    "    a_results_dict[dist] = np.array([], dtype=np.float64)\n",
    "    b_results_dict[dist] = np.array([], dtype=np.float64)\n",
    "\n",
    "\n",
    "def a_b_from_tree(tree):\n",
    "    tempList = []\n",
    "    for node in tree.nodes():\n",
    "        leaves = tuple(sorted(list(tree.leaves(node))))\n",
    "        mutType = mutTypeDict[leaves]\n",
    "        length = tree.get_branch_length(node)\n",
    "        tempList.append([mutType,length])\n",
    "\n",
    "    # calculate the total length of hetA and hetB type branches in this tree\n",
    "    a_length = sum([y for x,y in tempList if x=='hetA'])\n",
    "    b_length = sum([y for x,y in tempList if x=='hetB'])\n",
    "\n",
    "    return a_length, b_length\n",
    "\n",
    "\n",
    "for i in range(1, 101): # this would normally be 1001\n",
    "\n",
    "    demography = msprime.Demography()\n",
    "    demography.add_population(name=\"MD_MD\", initial_size=Nmd_md)\n",
    "    demography.add_population(name=\"MD_BTD\", initial_size=Nmd_btd)\n",
    "    demography.add_population(name=\"WTD_ML\", initial_size=Nwtd_ml)\n",
    "    demography.add_population(name=\"MD_ANC\", initial_size = Nmd_anc)\n",
    "    demography.add_population(name=\"ANC_REF\", initial_size = Nanc_ref)\n",
    "\n",
    "    demography.set_symmetric_migration_rate(populations=[\"MD_MD\",\"MD_BTD\"],rate = 4.0e-6)\n",
    "    demography.set_symmetric_migration_rate(populations=[\"MD_MD\",\"WTD_ML\"],rate = 4.1e-6)\n",
    "    demography.add_population_split(time = (13_869/2), derived = [\"MD_MD\",\"MD_BTD\"],ancestral = \"MD_ANC\")\n",
    "\n",
    "    demography.add_symmetric_migration_rate_change(time=13_869/2, populations=[\"MD_MD\",\"WTD_ML\"], rate = 0.0)\n",
    "    demography.add_symmetric_migration_rate_change(time = 13_869/2, populations = [\"WTD_ML\",\"MD_ANC\"],rate = 1.0e-7)\n",
    "\n",
    "    demography.add_symmetric_migration_rate_change(time = 348_989/2, populations = [\"WTD_ML\",\"MD_ANC\"], rate= 0.0)\n",
    "                        \n",
    "    demography.add_population_split(time = 393_409/2, derived = [\"MD_ANC\",\"WTD_ML\"], ancestral = \"ANC_REF\")\n",
    "\n",
    "\n",
    "    ts = msprime.sim_ancestry(\n",
    "        samples={\"WTD_ML\": 1, \"MD_BTD\": 1}, \n",
    "        demography=demography,\n",
    "        ploidy=2,\n",
    "        recombination_rate=r,\n",
    "        sequence_length=L,\n",
    "        discrete_genome=True, # means genelogies have defined coords\n",
    "        random_seed = 44+i,\n",
    "        record_migrations=True\n",
    "    )\n",
    "\n",
    "    mt_ts = msprime.sim_mutations(ts, rate=mu, discrete_genome=False, random_seed = 44+i)\n",
    "\n",
    "    seq_a_length = []\n",
    "    seq_b_length = []\n",
    "    hetAB = [0] * L\n",
    "    \n",
    "    for tree in mt_ts.trees():\n",
    "        \n",
    "        start = tree.interval.left\n",
    "        end = tree.interval.right\n",
    "        span = int(end - start)\n",
    "        a_length, b_length = a_b_from_tree(tree)\n",
    "        seq_a_length = seq_a_length + ([a_length] * span)\n",
    "        seq_b_length = seq_b_length + ([b_length] * span)\n",
    "        for site in tree.sites():\n",
    "            mut_pos = int(site.position) # effectively assumes infinite sites\n",
    "            leaves = tuple(sorted(list(tree.leaves(site.mutations[0].node))))\n",
    "            mutType = mutTypeDict[leaves]\n",
    "            if mutType == \"hetAB\":\n",
    "                hetAB[mut_pos] = 1\n",
    "\n",
    "    \n",
    "    for dist in a_results_dict.keys():\n",
    "        for interval_start in range(0, L, dist):\n",
    "            interval_hetAB = hetAB[interval_start:interval_start+dist]\n",
    "            if sum(interval_hetAB) > 0:\n",
    "                interval_res_a = seq_a_length[interval_start:interval_start+dist]\n",
    "                interval_res_b = seq_b_length[interval_start:interval_start+dist]\n",
    "                interval_a = sum(interval_res_a) / len(interval_res_a)\n",
    "                interval_b = sum(interval_res_b) / len(interval_res_b)\n",
    "                a_results_dict[dist] = np.append(a_results_dict[dist], np.array([interval_a]))\n",
    "                b_results_dict[dist] = np.append(b_results_dict[dist], np.array([interval_b]))\n",
    "\n",
    "\n",
    "    if i % 100 == 0 and i > 0:\n",
    "\n",
    "        dist_list = []\n",
    "        asymm_list_l = []\n",
    "        asymm_list_p = []\n",
    "        asymm_list_u = []\n",
    "        topology_list = []\n",
    "        \n",
    "        print(\"jack-knifing...\")\n",
    "        \n",
    "        for dist in a_results_dict.keys():\n",
    "            if len(a_results_dict[dist]) > 0:\n",
    "                jk_block = int(round((len(a_results_dict[dist]) / 25), 0))\n",
    "                #print(jk_block)\n",
    "                dist_list.append(dist)\n",
    "                lower, point, upper = block_jackknife(a_results_dict[dist], b_results_dict[dist], jk_block)\n",
    "                asymm_list_l.append(lower)\n",
    "                asymm_list_p.append(point)\n",
    "                asymm_list_u.append(upper)\n",
    "                \n",
    "        fig, ax = plt.subplots()\n",
    "        fig.set_size_inches(3, 3)\n",
    "        ax.scatter(x = dist_list, y = asymm_list_p, s=7, color=\"k\")\n",
    "        ax.errorbar(x = dist_list, y = asymm_list_p, yerr = np.subtract(asymm_list_p, asymm_list_l), color=\"k\", ls='none')\n",
    "        ax.xaxis.set_major_formatter(ScalarFormatter())\n",
    "        ax.set_xscale('log', base=2)\n",
    "        ax.set_xlim(0.5, 2*L)\n",
    "        #ax.set_ylim(0, 0.025)\n",
    "        ax.set_xscale('log', base=2)\n",
    "        plt.show()"
   ]
  },
  {
   "cell_type": "code",
   "execution_count": 9,
   "id": "93c010a3-a344-48aa-81b9-b31787e74315",
   "metadata": {},
   "outputs": [
    {
     "name": "stdout",
     "output_type": "stream",
     "text": [
      "[1, 2, 4, 8, 16, 32, 64, 128, 256, 512, 1024, 2048, 4096, 8192, 16384, 32768, 65536]\n",
      "\n",
      "[0.00031764321926998004, 0.002757113291290629, 0.005337307726982602, 0.0069320749624193975, 0.008519037767034363, 0.00605971467687173, 0.013096249547889832, 0.01902897423470725, 0.027452080300771686, 0.04085288472312931, 0.06933522895919442, 0.10588349354253497, 0.14442656355033615, 0.1763175259605788, 0.21122144609503873, 0.2260316451323431, 0.23095660788463218]\n",
      "\n",
      "[0.01951621973675485, 0.020648651305021342, 0.022053274744230897, 0.023675161844381034, 0.02621193081834044, 0.024916235401558903, 0.031014513217867558, 0.04087891926355715, 0.04914692959475117, 0.06915604925452923, 0.10029130231459038, 0.13660159893140647, 0.1733369801593732, 0.2051489665786678, 0.24163074488461503, 0.25543725986806864, 0.26985474583373903]\n",
      "\n",
      "[0.03871479625423972, 0.038540189318752055, 0.038769241761479195, 0.04041824872634267, 0.04390482386964652, 0.04377275612624608, 0.04893277688784528, 0.06272886429240704, 0.07084177888873065, 0.09745921378592914, 0.13124737566998634, 0.16731970432027796, 0.20224739676841028, 0.23398040719675678, 0.2720400436741913, 0.28484287460379415, 0.3087528837828459]\n",
      "\n"
     ]
    }
   ],
   "source": [
    "# print results\n",
    "print(dist_list)\n",
    "print()\n",
    "print(asymm_list_l)\n",
    "print()\n",
    "print(asymm_list_p)\n",
    "print()\n",
    "print(asymm_list_u)\n",
    "print()\n"
   ]
  },
  {
   "cell_type": "code",
   "execution_count": 10,
   "id": "d4329043-dece-4412-8bf0-c730f1a40b79",
   "metadata": {},
   "outputs": [
    {
     "name": "stdout",
     "output_type": "stream",
     "text": [
      "{0, 0.01951621973675485}, {1, 0.020648651305021342}, {2, 0.022053274744230897}, {3, 0.023675161844381034}, {4, 0.02621193081834044}, {5, 0.024916235401558903}, {6, 0.031014513217867558}, {7, 0.04087891926355715}, {8, 0.04914692959475117}, {9, 0.06915604925452923}, {10, 0.10029130231459038}, {11, 0.13660159893140647}, {12, 0.1733369801593732}, {13, 0.2051489665786678}, {14, 0.24163074488461503}, {15, 0.25543725986806864}, {16, 0.26985474583373903}, "
     ]
    }
   ],
   "source": [
    "# print result for plotting in Mathematica\n",
    "for i, dist in enumerate(dist_list):\n",
    "    print(\"{}{}, {}{}, \".format(\"{\", i, asymm_list_p[i], \"}\"), end=\"\")"
   ]
  },
  {
   "cell_type": "code",
   "execution_count": 11,
   "id": "aa9354ba-d7a6-4ab4-ae08-9c50e76149d4",
   "metadata": {},
   "outputs": [
    {
     "name": "stdout",
     "output_type": "stream",
     "text": [
      "Line[{{0, 0.00031764321926998004}, {0, 0.03871479625423972}}], Line[{{1, 0.002757113291290629}, {1, 0.038540189318752055}}], Line[{{2, 0.005337307726982602}, {2, 0.038769241761479195}}], Line[{{3, 0.0069320749624193975}, {3, 0.04041824872634267}}], Line[{{4, 0.008519037767034363}, {4, 0.04390482386964652}}], Line[{{5, 0.00605971467687173}, {5, 0.04377275612624608}}], Line[{{6, 0.013096249547889832}, {6, 0.04893277688784528}}], Line[{{7, 0.01902897423470725}, {7, 0.06272886429240704}}], Line[{{8, 0.027452080300771686}, {8, 0.07084177888873065}}], Line[{{9, 0.04085288472312931}, {9, 0.09745921378592914}}], Line[{{10, 0.06933522895919442}, {10, 0.13124737566998634}}], Line[{{11, 0.10588349354253497}, {11, 0.16731970432027796}}], Line[{{12, 0.14442656355033615}, {12, 0.20224739676841028}}], Line[{{13, 0.1763175259605788}, {13, 0.23398040719675678}}], Line[{{14, 0.21122144609503873}, {14, 0.2720400436741913}}], Line[{{15, 0.2260316451323431}, {15, 0.28484287460379415}}], Line[{{16, 0.23095660788463218}, {16, 0.3087528837828459}}], "
     ]
    }
   ],
   "source": [
    "# print result for plotting in Mathematica\n",
    "for i, l, u in zip([k for k in range(0, 17)], asymm_list_l, asymm_list_u):\n",
    "   print(\"Line{}{}, {}{}{}, {}{}\".format(\"[{{\", i, l, \"}, {\", i, u, \"}}], \"), end=\"\")"
   ]
  },
  {
   "cell_type": "code",
   "execution_count": null,
   "id": "1f566b58-0456-4045-886b-6a4158ddcf7d",
   "metadata": {},
   "outputs": [],
   "source": []
  }
 ],
 "metadata": {
  "kernelspec": {
   "display_name": "Python 3 (ipykernel)",
   "language": "python",
   "name": "python3"
  },
  "language_info": {
   "codemirror_mode": {
    "name": "ipython",
    "version": 3
   },
   "file_extension": ".py",
   "mimetype": "text/x-python",
   "name": "python",
   "nbconvert_exporter": "python",
   "pygments_lexer": "ipython3",
   "version": "3.12.1"
  }
 },
 "nbformat": 4,
 "nbformat_minor": 5
}
