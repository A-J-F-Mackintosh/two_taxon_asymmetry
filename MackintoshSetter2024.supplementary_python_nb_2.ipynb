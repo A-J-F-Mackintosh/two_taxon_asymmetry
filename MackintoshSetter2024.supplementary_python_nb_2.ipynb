{
 "cells": [
  {
   "cell_type": "code",
   "execution_count": 1,
   "id": "52c412a4-197c-4f19-a271-9365419491f3",
   "metadata": {},
   "outputs": [],
   "source": [
    "import msprime\n",
    "import tskit\n",
    "import numpy as np\n",
    "\n",
    "import os\n",
    "import subprocess\n",
    "\n",
    "import pandas as pd\n",
    "\n",
    "import math \n",
    "import statistics\n",
    "\n",
    "import seaborn as sns\n",
    "from IPython.display import SVG, set_matplotlib_formats\n",
    "from matplotlib import pyplot as plt\n",
    "\n",
    "from collections import Counter"
   ]
  },
  {
   "cell_type": "markdown",
   "id": "01597f69-c167-4ab6-b438-c020e2f884a4",
   "metadata": {},
   "source": [
    "### Testing the expected branch length under the IM model"
   ]
  },
  {
   "cell_type": "markdown",
   "id": "09ee1a59-005a-4919-b464-559d8449feac",
   "metadata": {},
   "source": [
    "##### Set up a branch type dictionary for the unphased unrooted IM model\n",
    "##### Keys are lists of lineages which share a derived mutation, values are mutation types (see Laetsch et al. 2023)"
   ]
  },
  {
   "cell_type": "code",
   "execution_count": 2,
   "id": "cc1d8009-20e0-44e8-974b-3dd4c5f089da",
   "metadata": {},
   "outputs": [
    {
     "data": {
      "text/plain": [
       "{(0, 1, 2, 3): None,\n",
       " (0,): 'hetA',\n",
       " (1,): 'hetA',\n",
       " (0, 2, 3): 'hetA',\n",
       " (1, 2, 3): 'hetA',\n",
       " (2,): 'hetB',\n",
       " (3,): 'hetB',\n",
       " (0, 1, 2): 'hetB',\n",
       " (0, 1, 3): 'hetB',\n",
       " (0, 2): 'hetAB',\n",
       " (0, 3): 'hetAB',\n",
       " (1, 2): 'hetAB',\n",
       " (1, 3): 'hetAB',\n",
       " (0, 1): 'FD',\n",
       " (2, 3): 'FD'}"
      ]
     },
     "execution_count": 2,
     "metadata": {},
     "output_type": "execute_result"
    }
   ],
   "source": [
    "HetATypes = [\n",
    "    [0],\n",
    "    [1],\n",
    "    [0,2,3],\n",
    "    [1,2,3]\n",
    "]\n",
    "HetBTypes = [\n",
    "    [2],\n",
    "    [3],\n",
    "    [0,1,2],\n",
    "    [0,1,3]\n",
    "]\n",
    "FixedDiffs = [\n",
    "    [0,1],\n",
    "    [2,3]\n",
    "]\n",
    "HetABTypes = [\n",
    "    [0,2],\n",
    "    [0,3],\n",
    "    [1,2],\n",
    "    [1,3]\n",
    "]\n",
    "\n",
    "mutTypeDict = {(0,1,2,3):None};\n",
    "for ls in HetATypes:\n",
    "    mutTypeDict[tuple(sorted(ls))] = \"hetA\"\n",
    "for ls in HetBTypes:\n",
    "    mutTypeDict[tuple(sorted(ls))] = \"hetB\"\n",
    "for ls in HetABTypes:\n",
    "    mutTypeDict[tuple(sorted(ls))] = \"hetAB\"\n",
    "for ls in FixedDiffs:\n",
    "    mutTypeDict[tuple(sorted(ls))] = \"FD\"\n",
    "\n",
    "mutTypeDict\n"
   ]
  },
  {
   "cell_type": "code",
   "execution_count": 3,
   "id": "66c03e82-c222-4b89-a9b6-a43de312d757",
   "metadata": {},
   "outputs": [],
   "source": [
    "def record_branch_lengths(mts_list):\n",
    "\n",
    "    a_0_lengths = []\n",
    "    b_0_lengths = []\n",
    "\n",
    "    a_1_lengths = []\n",
    "    b_1_lengths = []\n",
    "\n",
    "    a_2_lengths = []\n",
    "    b_2_lengths = []\n",
    "    \n",
    "    for mts in mts_list:\n",
    "\n",
    "        tree = mts.at(block_length / 2) # assuming no recombination in a block, it doesn't matter where we sample from\n",
    "     \n",
    "        tempList = []\n",
    "        for node in tree.nodes():\n",
    "            leaves = tuple(sorted(list(tree.leaves(node))))\n",
    "            mutType = mutTypeDict[leaves]\n",
    "            length = tree.get_branch_length(node)\n",
    "            tempList.append([mutType,length])\n",
    "    \n",
    "        # calculate the total length of hetA and hetB type branches in this tree\n",
    "        a_length = sum([y for x,y in tempList if x=='hetA'])\n",
    "        b_length = sum([y for x,y in tempList if x=='hetB'])\n",
    "    \n",
    "        # record the hetA and hetB branch lengths for all non-recombining blocks\n",
    "        a_0_lengths.append(a_length)\n",
    "        b_0_lengths.append(b_length)\n",
    "    \n",
    "    \n",
    "        # if the topology is incongruent, \n",
    "        if 'hetAB' in [a for (a,b) in tempList]:\n",
    "            \n",
    "            #store the hetA and hetB branch lengths for this tree conditioned on incongruence\n",
    "            a_1_lengths.append(a_length)\n",
    "            b_1_lengths.append(b_length)\n",
    "    \n",
    "            # given incongruence, check if there is a hetAB mutation present within the block\n",
    "            has_ab_mut = False\n",
    "            muts = tree.mutations()\n",
    "            for mut in muts:\n",
    "                # get the node below the mutation and check the branch type (mutType) of the mutation\n",
    "                node1 = mut.node\n",
    "                leaves = tuple(sorted(list(tree.leaves(node1))))\n",
    "                mutType = mutTypeDict[leaves]\n",
    "                # if the mutation is hetAB\n",
    "                if mutType == 'hetAB':\n",
    "                    has_ab_mut = True\n",
    "                    break\n",
    "                            \n",
    "            # conditioned on a hetAB mutation in the block, record the hetA and hetB branch lengths \n",
    "            if has_ab_mut:\n",
    "                a_2_lengths.append(a_length)\n",
    "                b_2_lengths.append(b_length)\n",
    "\n",
    "    return a_0_lengths, b_0_lengths, a_1_lengths, b_1_lengths, a_2_lengths, b_2_lengths"
   ]
  },
  {
   "cell_type": "code",
   "execution_count": 4,
   "id": "b3c35226-eefb-486a-9db4-d18efaad5ce0",
   "metadata": {},
   "outputs": [],
   "source": [
    "def calculate_asymmetry(a_list, b_list):\n",
    "    \n",
    "    a_total = sum(a_list)\n",
    "    b_total = sum(b_list)\n",
    "\n",
    "    asymm = (a_total - b_total) / (a_total + b_total)\n",
    "\n",
    "    return asymm"
   ]
  },
  {
   "cell_type": "code",
   "execution_count": 5,
   "id": "d5a6f5c1-2c78-43a5-b2d9-3d93c1de1c6b",
   "metadata": {},
   "outputs": [],
   "source": [
    "def block_jackknife(a_list, b_list, jk_block):\n",
    "    #print(\"trimming {} sims...\".format(len(a_list) % jk_block))\n",
    "    total_jk_blocks = int((len(a_list) - (len(a_list) % jk_block)) / jk_block)\n",
    "    if total_jk_blocks < 2:\n",
    "        #print(\"not enough blocks for jackknife\")\n",
    "        overall_estimate = calculate_asymmetry(a_list, b_list)\n",
    "        return [-1, overall_estimate, 1]\n",
    "    #print(\"total of {} jk blocks\".format(total_jk_blocks))\n",
    "    trimmed_a_list = a_list[:total_jk_blocks * jk_block]\n",
    "    trimmed_b_list = b_list[:total_jk_blocks * jk_block]\n",
    "    blocked_a_list = np.mean(trimmed_a_list.reshape(-1, jk_block), axis=1)\n",
    "    blocked_b_list = np.mean(trimmed_b_list.reshape(-1, jk_block), axis=1)\n",
    "    overall_estimate = calculate_asymmetry(blocked_a_list, blocked_b_list)\n",
    "    n = total_jk_blocks\n",
    "    pseudo_estimates = []\n",
    "    for i in range(0, n):\n",
    "        retained_a_blocks = np.delete(blocked_a_list, i)\n",
    "        retained_b_blocks = np.delete(blocked_b_list, i)\n",
    "        retained_blocks_estimate = calculate_asymmetry(retained_a_blocks, retained_b_blocks)\n",
    "        pseudo_estimate = (n * overall_estimate) - ((n - 1) * retained_blocks_estimate)\n",
    "        pseudo_estimates.append(pseudo_estimate)\n",
    "    pseudovalue_variance = sum([(e - overall_estimate)**2 for e in pseudo_estimates]) / (n - 1)\n",
    "    lower_CI = overall_estimate - (1.96 * math.sqrt(pseudovalue_variance / n))\n",
    "    higher_CI = overall_estimate + (1.96 * math.sqrt(pseudovalue_variance / n))\n",
    "    return [lower_CI, overall_estimate, higher_CI]"
   ]
  },
  {
   "cell_type": "markdown",
   "id": "41aa5fd7-b89d-4584-92f5-52b60aa1f2c9",
   "metadata": {},
   "source": [
    "##### Here we simulate sequences with recombination and calculate A_m across a range of block lengths. The demography is that of Heliconius melpomene and H. cydno, inferred by Laetsch et al (2023) using the mutlilocus inference method gIMble. Their demographic model is the five parameter IM model, where H. melpomene is population A and H. cydno is population B."
   ]
  },
  {
   "cell_type": "code",
   "execution_count": 7,
   "id": "f493b460-358e-4eb0-a4ae-518147162630",
   "metadata": {},
   "outputs": [
    {
     "name": "stdout",
     "output_type": "stream",
     "text": [
      "jack-knifing...\n"
     ]
    },
    {
     "data": {
      "image/png": "[encoded data removed]",
      "text/plain": [
       "<Figure size 300x300 with 1 Axes>"
      ]
     },
     "metadata": {},
     "output_type": "display_data"
    },
    {
     "name": "stdout",
     "output_type": "stream",
     "text": [
      "done\n",
      "CPU times: total: 32.3 s\n",
      "Wall time: 39.9 s\n"
     ]
    }
   ],
   "source": [
    "%%time\n",
    "\n",
    "import seaborn as sns\n",
    "import matplotlib.pyplot as plt\n",
    "from matplotlib.ticker import ScalarFormatter\n",
    "\n",
    "mu = 2.9e-9\n",
    "r = 1.89e-8\n",
    "\n",
    "Tmya = 1.054\n",
    "Tyears = Tmya*1e6\n",
    "Tgens = Tyears*4\n",
    "\n",
    "Nmel = 5.49e5\n",
    "Ncyd = 1.415e6\n",
    "Nanc = 9.279e5\n",
    "\n",
    "me = 7.4e-7  #msprime now uses me directly, it seems\n",
    "M = 4*Nmel*me\n",
    "\n",
    "\n",
    "L = 65_536\n",
    "a_results_dict = {}\n",
    "b_results_dict = {}\n",
    "for dist in [1, 2, 4, 8, 16, 32, 64, 128, 256, 512, 1024, 2048, 4096, 8192, 16_384, 32_768, 65_536]:\n",
    "    a_results_dict[dist] = np.array([], dtype=np.float64)\n",
    "    b_results_dict[dist] = np.array([], dtype=np.float64)\n",
    "\n",
    "\n",
    "def a_b_from_tree(tree):\n",
    "    tempList = []\n",
    "    for node in tree.nodes():\n",
    "        leaves = tuple(sorted(list(tree.leaves(node))))\n",
    "        mutType = mutTypeDict[leaves]\n",
    "        length = tree.get_branch_length(node)\n",
    "        tempList.append([mutType,length])\n",
    "\n",
    "    # calculate the total length of hetA and hetB type branches in this tree\n",
    "    a_length = sum([y for x,y in tempList if x=='hetA'])\n",
    "    b_length = sum([y for x,y in tempList if x=='hetB'])\n",
    "\n",
    "    return a_length, b_length\n",
    "\n",
    "\n",
    "for i in range(1, 11): # this would normally be 1001\n",
    "\n",
    "    demography = msprime.Demography()\n",
    "    demography.add_population(name=\"MEL\", initial_size=Nmel)\n",
    "    demography.add_population(name=\"CYD\", initial_size=Ncyd)\n",
    "    demography.add_population(name=\"ANC\", initial_size = Nanc) # this was an approximation based on info in the table, and I assumed it was for ultiamte ancestor\n",
    "\n",
    "    demography.set_migration_rate(source=\"MEL\",dest=\"CYD\", rate=me)\n",
    "\n",
    "    demography.add_population_split( time = Tgens, derived = [\"MEL\",\"CYD\"], ancestral = \"ANC\")\n",
    "    demography.add_migration_rate_change(time = Tgens, source=\"CYD\", dest = \"MEL\", rate = 0.0)\n",
    "    \n",
    "    \n",
    "    ts = msprime.sim_ancestry(\n",
    "        samples={\"MEL\": 1, \"CYD\": 1}, \n",
    "        demography=demography,\n",
    "        ploidy=2,\n",
    "        recombination_rate=r,\n",
    "        sequence_length=L,\n",
    "        discrete_genome=True, # means genelogies have defined coords\n",
    "        random_seed = 44+i,\n",
    "        record_migrations=True\n",
    "    )\n",
    "\n",
    "    mt_ts = msprime.sim_mutations(ts, rate=mu, discrete_genome=False, random_seed = 44+i)\n",
    "\n",
    "    seq_a_length = []\n",
    "    seq_b_length = []\n",
    "    hetAB = [0] * L\n",
    "    \n",
    "    for tree in mt_ts.trees():\n",
    "        \n",
    "        start = tree.interval.left\n",
    "        end = tree.interval.right\n",
    "        span = int(end - start)\n",
    "        a_length, b_length = a_b_from_tree(tree)\n",
    "        seq_a_length = seq_a_length + ([a_length] * span)\n",
    "        seq_b_length = seq_b_length + ([b_length] * span)\n",
    "        for site in tree.sites():\n",
    "            mut_pos = int(site.position) # effectively assumes infinite sites\n",
    "            leaves = tuple(sorted(list(tree.leaves(site.mutations[0].node))))\n",
    "            mutType = mutTypeDict[leaves]\n",
    "            if mutType == \"hetAB\":\n",
    "                hetAB[mut_pos] = 1\n",
    "\n",
    "    \n",
    "    for dist in a_results_dict.keys():\n",
    "        for interval_start in range(0, L, dist):\n",
    "            interval_hetAB = hetAB[interval_start:interval_start+dist]\n",
    "            if sum(interval_hetAB) > 0:\n",
    "                interval_res_a = seq_a_length[interval_start:interval_start+dist]\n",
    "                interval_res_b = seq_b_length[interval_start:interval_start+dist]\n",
    "                interval_a = sum(interval_res_a) / len(interval_res_a)\n",
    "                interval_b = sum(interval_res_b) / len(interval_res_b)\n",
    "                a_results_dict[dist] = np.append(a_results_dict[dist], np.array([interval_a]))\n",
    "                b_results_dict[dist] = np.append(b_results_dict[dist], np.array([interval_b]))\n",
    "\n",
    "    if i % 10 == 0 and i > 0:\n",
    "\n",
    "        dist_list = []\n",
    "        asymm_list_l = []\n",
    "        asymm_list_p = []\n",
    "        asymm_list_u = []\n",
    "        topology_list = []\n",
    "        \n",
    "        print(\"jack-knifing...\")\n",
    "        \n",
    "        for dist in a_results_dict.keys():\n",
    "            if len(a_results_dict[dist]) > 0:\n",
    "                jk_block = int(round((len(a_results_dict[dist]) / 10), 0)) # this would normally be 25\n",
    "                #print(jk_block)\n",
    "                dist_list.append(dist)\n",
    "                lower, point, upper = block_jackknife(a_results_dict[dist], b_results_dict[dist], jk_block)\n",
    "                asymm_list_l.append(lower)\n",
    "                asymm_list_p.append(point)\n",
    "                asymm_list_u.append(upper)\n",
    "                \n",
    "        fig, ax = plt.subplots()\n",
    "        fig.set_size_inches(3, 3)\n",
    "        ax.scatter(x = dist_list, y = asymm_list_p, s=7, color=\"k\")\n",
    "        ax.errorbar(x = dist_list, y = asymm_list_p, yerr = np.subtract(asymm_list_p, asymm_list_l), color=\"k\", ls='none')\n",
    "        ax.xaxis.set_major_formatter(ScalarFormatter())\n",
    "        ax.set_xscale('log', base=2)\n",
    "        ax.set_xlim(0.5, 2*L)\n",
    "        #ax.set_ylim(0, 0.25)\n",
    "        ax.set_xscale('log', base=2)\n",
    "        plt.show()\n",
    "\n",
    "print(\"done\")"
   ]
  },
  {
   "cell_type": "code",
   "execution_count": 8,
   "id": "d3db9c5b-2454-4b67-a46a-4d427743b8dd",
   "metadata": {},
   "outputs": [
    {
     "name": "stdout",
     "output_type": "stream",
     "text": [
      "[1, 2, 4, 8, 16, 32, 64, 128, 256, 512, 1024, 2048, 4096, 8192, 16384, 32768, 65536]\n",
      "\n",
      "[0.015150545279164644, 0.022360492096428836, 0.023912013144455537, 0.0370315045344794, 0.04178326042741269, 0.052407356517363335, 0.055556463279089155, 0.06985143670282702, 0.05830995470235376, 0.03639193059113682, 0.025155977211910395, 0.009606519589526432, 0.011811394584269917, 0.004778706703041476, 0.004778706703041379, 0.004778706703041379, 0.004778706703041379]\n",
      "\n",
      "[0.03308698479273315, 0.04152779985230648, 0.04610084295327104, 0.05563329178565965, 0.061958284393398774, 0.07988399876245739, 0.07838290874113336, 0.08906374848865159, 0.0828970410361777, 0.06555730633445316, 0.04864633842444908, 0.03205956679488518, 0.032406037246984806, 0.0321582651490545, 0.0321582651490545, 0.0321582651490545, 0.0321582651490545]\n",
      "\n",
      "[0.051023424306301655, 0.060695107608184126, 0.06828967276208654, 0.0742350790368399, 0.08213330835938486, 0.10736064100755144, 0.10120935420317757, 0.10827606027447616, 0.10748412737000165, 0.09472268207776949, 0.07213669963698777, 0.05451261400024393, 0.0530006799096997, 0.05953782359506753, 0.059537823595067624, 0.059537823595067624, 0.059537823595067624]\n",
      "\n"
     ]
    }
   ],
   "source": [
    "# print results\n",
    "print(dist_list)\n",
    "print()\n",
    "print(asymm_list_l)\n",
    "print()\n",
    "print(asymm_list_p)\n",
    "print()\n",
    "print(asymm_list_u)\n",
    "print()\n"
   ]
  },
  {
   "cell_type": "code",
   "execution_count": 9,
   "id": "cf856921-d366-43e9-aa8d-b3e09fbfdcaa",
   "metadata": {},
   "outputs": [
    {
     "name": "stdout",
     "output_type": "stream",
     "text": [
      "{0, 0.03308698479273315}, {1, 0.04152779985230648}, {2, 0.04610084295327104}, {3, 0.05563329178565965}, {4, 0.061958284393398774}, {5, 0.07988399876245739}, {6, 0.07838290874113336}, {7, 0.08906374848865159}, {8, 0.0828970410361777}, {9, 0.06555730633445316}, {10, 0.04864633842444908}, {11, 0.03205956679488518}, {12, 0.032406037246984806}, {13, 0.0321582651490545}, {14, 0.0321582651490545}, {15, 0.0321582651490545}, {16, 0.0321582651490545}, "
     ]
    }
   ],
   "source": [
    "# print results for plotting in Mathematica\n",
    "for i, dist in enumerate(dist_list):\n",
    "    print(\"{}{}, {}{}, \".format(\"{\", i, asymm_list_p[i], \"}\"), end=\"\")"
   ]
  },
  {
   "cell_type": "code",
   "execution_count": 10,
   "id": "21cef1df-66a8-4d57-9150-7406881ee918",
   "metadata": {},
   "outputs": [
    {
     "name": "stdout",
     "output_type": "stream",
     "text": [
      "Line[{{0, 0.015150545279164644}, {0, 0.051023424306301655}}], Line[{{1, 0.022360492096428836}, {1, 0.060695107608184126}}], Line[{{2, 0.023912013144455537}, {2, 0.06828967276208654}}], Line[{{3, 0.0370315045344794}, {3, 0.0742350790368399}}], Line[{{4, 0.04178326042741269}, {4, 0.08213330835938486}}], Line[{{5, 0.052407356517363335}, {5, 0.10736064100755144}}], Line[{{6, 0.055556463279089155}, {6, 0.10120935420317757}}], Line[{{7, 0.06985143670282702}, {7, 0.10827606027447616}}], Line[{{8, 0.05830995470235376}, {8, 0.10748412737000165}}], Line[{{9, 0.03639193059113682}, {9, 0.09472268207776949}}], Line[{{10, 0.025155977211910395}, {10, 0.07213669963698777}}], Line[{{11, 0.009606519589526432}, {11, 0.05451261400024393}}], Line[{{12, 0.011811394584269917}, {12, 0.0530006799096997}}], Line[{{13, 0.004778706703041476}, {13, 0.05953782359506753}}], Line[{{14, 0.004778706703041379}, {14, 0.059537823595067624}}], Line[{{15, 0.004778706703041379}, {15, 0.059537823595067624}}], Line[{{16, 0.004778706703041379}, {16, 0.059537823595067624}}], "
     ]
    }
   ],
   "source": [
    "# print results for plotting in Mathematica\n",
    "for i, l, u in zip([k for k in range(0, 17)], asymm_list_l, asymm_list_u):\n",
    "   print(\"Line{}{}, {}{}{}, {}{}\".format(\"[{{\", i, l, \"}, {\", i, u, \"}}], \"), end=\"\")"
   ]
  }
 ],
 "metadata": {
  "kernelspec": {
   "display_name": "Python 3 (ipykernel)",
   "language": "python",
   "name": "python3"
  },
  "language_info": {
   "codemirror_mode": {
    "name": "ipython",
    "version": 3
   },
   "file_extension": ".py",
   "mimetype": "text/x-python",
   "name": "python",
   "nbconvert_exporter": "python",
   "pygments_lexer": "ipython3",
   "version": "3.12.1"
  }
 },
 "nbformat": 4,
 "nbformat_minor": 5
}
